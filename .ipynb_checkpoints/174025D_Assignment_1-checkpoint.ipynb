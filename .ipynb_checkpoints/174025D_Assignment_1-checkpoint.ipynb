{
 "cells": [
  {
   "cell_type": "markdown",
   "metadata": {},
   "source": [
    "Question 1.\n",
    "\n",
    "To predict assign sentiments as \"positive\" or \"negative\" to the given text sentence, it is needed to the build two separate corpus \"positive\" labeled and \"negative\" labeled using the labeled dataset. Then using bigram model, each bigrams probability can be calculated each corpus separately (positive corpus and negative corpus). Then the given sentence is calculated unigram probability using the unigram probabilities of two different corpuses. Finally, it can be predicted that the highest probability given corpus's label as the sentence polarity (positive or negative).\n"
   ]
  },
  {
   "cell_type": "markdown",
   "metadata": {},
   "source": [
    "\n",
    "Question 2.\n"
   ]
  },
  {
   "cell_type": "code",
   "execution_count": 1,
   "metadata": {},
   "outputs": [],
   "source": [
    "import numpy as np\n",
    "import pandas as pd\n",
    "from nltk import bigrams\n",
    "import itertools, nltk"
   ]
  },
  {
   "cell_type": "code",
   "execution_count": 2,
   "metadata": {},
   "outputs": [],
   "source": [
    "comments_df = pd.read_csv(\"data_set.csv\", encoding= 'unicode_escape')"
   ]
  },
  {
   "cell_type": "code",
   "execution_count": 3,
   "metadata": {},
   "outputs": [
    {
     "data": {
      "text/html": [
       "<div>\n",
       "<style scoped>\n",
       "    .dataframe tbody tr th:only-of-type {\n",
       "        vertical-align: middle;\n",
       "    }\n",
       "\n",
       "    .dataframe tbody tr th {\n",
       "        vertical-align: top;\n",
       "    }\n",
       "\n",
       "    .dataframe thead th {\n",
       "        text-align: right;\n",
       "    }\n",
       "</style>\n",
       "<table border=\"1\" class=\"dataframe\">\n",
       "  <thead>\n",
       "    <tr style=\"text-align: right;\">\n",
       "      <th></th>\n",
       "      <th>comment</th>\n",
       "      <th>label</th>\n",
       "    </tr>\n",
       "  </thead>\n",
       "  <tbody>\n",
       "    <tr>\n",
       "      <th>0</th>\n",
       "      <td>Borukara andu heththa apita sahane denava kiya...</td>\n",
       "      <td>negative</td>\n",
       "    </tr>\n",
       "    <tr>\n",
       "      <th>1</th>\n",
       "      <td>Chande tiyana kota vitharai minissu watinne mu...</td>\n",
       "      <td>negative</td>\n",
       "    </tr>\n",
       "    <tr>\n",
       "      <th>2</th>\n",
       "      <td>Ko mahaththayo yahapalana kale ithuru karapu s...</td>\n",
       "      <td>negative</td>\n",
       "    </tr>\n",
       "    <tr>\n",
       "      <th>3</th>\n",
       "      <td>Oya gonna buruwa aurudu ganak idala monawada k...</td>\n",
       "      <td>negative</td>\n",
       "    </tr>\n",
       "    <tr>\n",
       "      <th>4</th>\n",
       "      <td>Premadasa lankawe 60000 k marala puchala demma</td>\n",
       "      <td>negative</td>\n",
       "    </tr>\n",
       "  </tbody>\n",
       "</table>\n",
       "</div>"
      ],
      "text/plain": [
       "                                             comment     label\n",
       "0  Borukara andu heththa apita sahane denava kiya...  negative\n",
       "1  Chande tiyana kota vitharai minissu watinne mu...  negative\n",
       "2  Ko mahaththayo yahapalana kale ithuru karapu s...  negative\n",
       "3  Oya gonna buruwa aurudu ganak idala monawada k...  negative\n",
       "4     Premadasa lankawe 60000 k marala puchala demma  negative"
      ]
     },
     "execution_count": 3,
     "metadata": {},
     "output_type": "execute_result"
    }
   ],
   "source": [
    "comments_df.head()"
   ]
  },
  {
   "cell_type": "code",
   "execution_count": 4,
   "metadata": {},
   "outputs": [
    {
     "data": {
      "text/plain": [
       "(100, 2)"
      ]
     },
     "execution_count": 4,
     "metadata": {},
     "output_type": "execute_result"
    }
   ],
   "source": [
    "comments_df.shape"
   ]
  },
  {
   "cell_type": "markdown",
   "metadata": {},
   "source": [
    "1. data preprocess"
   ]
  },
  {
   "cell_type": "markdown",
   "metadata": {},
   "source": [
    "remove null values"
   ]
  },
  {
   "cell_type": "code",
   "execution_count": 5,
   "metadata": {
    "scrolled": true
   },
   "outputs": [
    {
     "data": {
      "text/plain": [
       "comment    False\n",
       "label      False\n",
       "dtype: bool"
      ]
     },
     "execution_count": 5,
     "metadata": {},
     "output_type": "execute_result"
    }
   ],
   "source": [
    "# is there any null values\n",
    "\n",
    "comments_df.isnull().any()"
   ]
  },
  {
   "cell_type": "markdown",
   "metadata": {},
   "source": [
    "* there are no null values"
   ]
  },
  {
   "cell_type": "markdown",
   "metadata": {},
   "source": [
    "2. comments tokenize"
   ]
  },
  {
   "cell_type": "code",
   "execution_count": 6,
   "metadata": {},
   "outputs": [
    {
     "data": {
      "text/html": [
       "<div>\n",
       "<style scoped>\n",
       "    .dataframe tbody tr th:only-of-type {\n",
       "        vertical-align: middle;\n",
       "    }\n",
       "\n",
       "    .dataframe tbody tr th {\n",
       "        vertical-align: top;\n",
       "    }\n",
       "\n",
       "    .dataframe thead th {\n",
       "        text-align: right;\n",
       "    }\n",
       "</style>\n",
       "<table border=\"1\" class=\"dataframe\">\n",
       "  <thead>\n",
       "    <tr style=\"text-align: right;\">\n",
       "      <th></th>\n",
       "      <th>comment</th>\n",
       "      <th>label</th>\n",
       "      <th>tokenized_comment</th>\n",
       "    </tr>\n",
       "  </thead>\n",
       "  <tbody>\n",
       "    <tr>\n",
       "      <th>0</th>\n",
       "      <td>Borukara andu heththa apita sahane denava kiya...</td>\n",
       "      <td>negative</td>\n",
       "      <td>[borukara, andu, heththa, apita, sahane, denav...</td>\n",
       "    </tr>\n",
       "    <tr>\n",
       "      <th>1</th>\n",
       "      <td>Chande tiyana kota vitharai minissu watinne mu...</td>\n",
       "      <td>negative</td>\n",
       "      <td>[chande, tiyana, kota, vitharai, minissu, wati...</td>\n",
       "    </tr>\n",
       "    <tr>\n",
       "      <th>2</th>\n",
       "      <td>Ko mahaththayo yahapalana kale ithuru karapu s...</td>\n",
       "      <td>negative</td>\n",
       "      <td>[ko, mahaththayo, yahapalana, kale, ithuru, ka...</td>\n",
       "    </tr>\n",
       "    <tr>\n",
       "      <th>3</th>\n",
       "      <td>Oya gonna buruwa aurudu ganak idala monawada k...</td>\n",
       "      <td>negative</td>\n",
       "      <td>[oya, gonna, buruwa, aurudu, ganak, idala, mon...</td>\n",
       "    </tr>\n",
       "    <tr>\n",
       "      <th>4</th>\n",
       "      <td>Premadasa lankawe 60000 k marala puchala demma</td>\n",
       "      <td>negative</td>\n",
       "      <td>[premadasa, lankawe, 60000, k, marala, puchala...</td>\n",
       "    </tr>\n",
       "  </tbody>\n",
       "</table>\n",
       "</div>"
      ],
      "text/plain": [
       "                                             comment     label  \\\n",
       "0  Borukara andu heththa apita sahane denava kiya...  negative   \n",
       "1  Chande tiyana kota vitharai minissu watinne mu...  negative   \n",
       "2  Ko mahaththayo yahapalana kale ithuru karapu s...  negative   \n",
       "3  Oya gonna buruwa aurudu ganak idala monawada k...  negative   \n",
       "4     Premadasa lankawe 60000 k marala puchala demma  negative   \n",
       "\n",
       "                                   tokenized_comment  \n",
       "0  [borukara, andu, heththa, apita, sahane, denav...  \n",
       "1  [chande, tiyana, kota, vitharai, minissu, wati...  \n",
       "2  [ko, mahaththayo, yahapalana, kale, ithuru, ka...  \n",
       "3  [oya, gonna, buruwa, aurudu, ganak, idala, mon...  \n",
       "4  [premadasa, lankawe, 60000, k, marala, puchala...  "
      ]
     },
     "execution_count": 6,
     "metadata": {},
     "output_type": "execute_result"
    }
   ],
   "source": [
    "from nltk.tokenize import RegexpTokenizer\n",
    "from nltk.tokenize import word_tokenize\n",
    "\n",
    "df = comments_df.copy()\n",
    "\n",
    "tokenized_comment = []\n",
    "\n",
    "for i in range(len(df.index)):\n",
    "    tokenizer = RegexpTokenizer(r\"\\w+\")\n",
    "    tokenized_comment.append(tokenizer.tokenize(df['comment'][i].lower()))\n",
    "    \n",
    "df.insert(2, 'tokenized_comment', tokenized_comment, True) \n",
    "df.head()"
   ]
  },
  {
   "cell_type": "markdown",
   "metadata": {},
   "source": [
    "3. feature encoding"
   ]
  },
  {
   "cell_type": "code",
   "execution_count": 7,
   "metadata": {},
   "outputs": [
    {
     "data": {
      "text/html": [
       "<div>\n",
       "<style scoped>\n",
       "    .dataframe tbody tr th:only-of-type {\n",
       "        vertical-align: middle;\n",
       "    }\n",
       "\n",
       "    .dataframe tbody tr th {\n",
       "        vertical-align: top;\n",
       "    }\n",
       "\n",
       "    .dataframe thead th {\n",
       "        text-align: right;\n",
       "    }\n",
       "</style>\n",
       "<table border=\"1\" class=\"dataframe\">\n",
       "  <thead>\n",
       "    <tr style=\"text-align: right;\">\n",
       "      <th></th>\n",
       "      <th>comment</th>\n",
       "      <th>label</th>\n",
       "      <th>tokenized_comment</th>\n",
       "    </tr>\n",
       "  </thead>\n",
       "  <tbody>\n",
       "    <tr>\n",
       "      <th>0</th>\n",
       "      <td>Borukara andu heththa apita sahane denava kiya...</td>\n",
       "      <td>0</td>\n",
       "      <td>[borukara, andu, heththa, apita, sahane, denav...</td>\n",
       "    </tr>\n",
       "    <tr>\n",
       "      <th>1</th>\n",
       "      <td>Chande tiyana kota vitharai minissu watinne mu...</td>\n",
       "      <td>0</td>\n",
       "      <td>[chande, tiyana, kota, vitharai, minissu, wati...</td>\n",
       "    </tr>\n",
       "    <tr>\n",
       "      <th>2</th>\n",
       "      <td>Ko mahaththayo yahapalana kale ithuru karapu s...</td>\n",
       "      <td>0</td>\n",
       "      <td>[ko, mahaththayo, yahapalana, kale, ithuru, ka...</td>\n",
       "    </tr>\n",
       "    <tr>\n",
       "      <th>3</th>\n",
       "      <td>Oya gonna buruwa aurudu ganak idala monawada k...</td>\n",
       "      <td>0</td>\n",
       "      <td>[oya, gonna, buruwa, aurudu, ganak, idala, mon...</td>\n",
       "    </tr>\n",
       "    <tr>\n",
       "      <th>4</th>\n",
       "      <td>Premadasa lankawe 60000 k marala puchala demma</td>\n",
       "      <td>0</td>\n",
       "      <td>[premadasa, lankawe, 60000, k, marala, puchala...</td>\n",
       "    </tr>\n",
       "  </tbody>\n",
       "</table>\n",
       "</div>"
      ],
      "text/plain": [
       "                                             comment  label  \\\n",
       "0  Borukara andu heththa apita sahane denava kiya...      0   \n",
       "1  Chande tiyana kota vitharai minissu watinne mu...      0   \n",
       "2  Ko mahaththayo yahapalana kale ithuru karapu s...      0   \n",
       "3  Oya gonna buruwa aurudu ganak idala monawada k...      0   \n",
       "4     Premadasa lankawe 60000 k marala puchala demma      0   \n",
       "\n",
       "                                   tokenized_comment  \n",
       "0  [borukara, andu, heththa, apita, sahane, denav...  \n",
       "1  [chande, tiyana, kota, vitharai, minissu, wati...  \n",
       "2  [ko, mahaththayo, yahapalana, kale, ithuru, ka...  \n",
       "3  [oya, gonna, buruwa, aurudu, ganak, idala, mon...  \n",
       "4  [premadasa, lankawe, 60000, k, marala, puchala...  "
      ]
     },
     "execution_count": 7,
     "metadata": {},
     "output_type": "execute_result"
    }
   ],
   "source": [
    "df['label'] = df['label'].astype('category').cat.codes\n",
    "df.head()"
   ]
  },
  {
   "cell_type": "markdown",
   "metadata": {},
   "source": [
    "* apply label encoding to the 'label' the label 'positive' as 1 and 'negative' as 0"
   ]
  },
  {
   "cell_type": "markdown",
   "metadata": {},
   "source": [
    "4. Deivde dataset to training and testing 80 to 20 precents"
   ]
  },
  {
   "cell_type": "code",
   "execution_count": 8,
   "metadata": {},
   "outputs": [
    {
     "name": "stdout",
     "output_type": "stream",
     "text": [
      "train shape  (80, 3)\n",
      "test shape  (20, 3)\n"
     ]
    }
   ],
   "source": [
    "# create training and testing datasets\n",
    "\n",
    "from sklearn.model_selection import train_test_split\n",
    "train, test = train_test_split(df, test_size=0.2, random_state=42)\n",
    "print('train shape ', train.shape)\n",
    "print('test shape ', test.shape)"
   ]
  },
  {
   "cell_type": "markdown",
   "metadata": {},
   "source": [
    "5. Make positive comments corpus and negative comment corpus."
   ]
  },
  {
   "cell_type": "code",
   "execution_count": 9,
   "metadata": {},
   "outputs": [],
   "source": [
    "from nltk.tokenize import RegexpTokenizer\n",
    "from nltk.tokenize import word_tokenize\n",
    "\n",
    "positive_words_arr = []\n",
    "negative_words_arr = [] \n",
    "\n",
    "comments = train['tokenized_comment'].to_numpy()\n",
    "\n",
    "for i in range(len(train.index)):\n",
    "    if(train.iloc[[i],1].values==1):\n",
    "        positive_words_arr.append(comments[i])\n",
    "    else:\n",
    "        negative_words_arr.append(comments[i])"
   ]
  },
  {
   "cell_type": "markdown",
   "metadata": {},
   "source": [
    "6. methods to implement unigram and bigram "
   ]
  },
  {
   "cell_type": "code",
   "execution_count": 10,
   "metadata": {},
   "outputs": [],
   "source": [
    "#the bigram wrapper\n",
    "def bigrams_wrapper(sent):\n",
    "    return list(nltk.ngrams(sent, 2))\n",
    "\n",
    "#the uniigram wrapper\n",
    "def unigrams_wrapper(sent):\n",
    "    return list(nltk.ngrams(sent, 1))"
   ]
  },
  {
   "cell_type": "code",
   "execution_count": 11,
   "metadata": {},
   "outputs": [],
   "source": [
    "#the method to implement bigram\n",
    "\n",
    "def createBigrams(words_arr):\n",
    "    bigrams = map(bigrams_wrapper, words_arr)\n",
    "    bigram = list(itertools.chain.from_iterable(bigrams))\n",
    "    freq_dist = nltk.FreqDist(bigram)\n",
    "    number_of_bigrams = freq_dist.N()\n",
    "    \n",
    "    return freq_dist, number_of_bigrams"
   ]
  },
  {
   "cell_type": "code",
   "execution_count": 12,
   "metadata": {},
   "outputs": [],
   "source": [
    "#the method to implement unigram\n",
    "\n",
    "def createUnigrams(words_arr):\n",
    "    unigrams = map(unigrams_wrapper, words_arr)\n",
    "    unigram = list(itertools.chain.from_iterable(unigrams))\n",
    "    freq_dist = nltk.FreqDist(unigram)\n",
    "    number_of_unigrams = freq_dist.N()\n",
    "    \n",
    "    return freq_dist, number_of_unigrams"
   ]
  },
  {
   "cell_type": "markdown",
   "metadata": {},
   "source": [
    "7. Implement bigrams and unigrams for positive and negative data"
   ]
  },
  {
   "cell_type": "code",
   "execution_count": 13,
   "metadata": {},
   "outputs": [],
   "source": [
    "#for negative_words_arr\n",
    "\n",
    "negative_bigrams_freq_dist, number_of_negative_bigrams = createBigrams(negative_words_arr)\n",
    "negative_unigrams_freq_dist, number_of_negative_unigrams = createUnigrams(negative_words_arr)\n",
    "\n",
    "#for positive_words_arr\n",
    "\n",
    "positive_bigrams_freq_dist, number_of_positive_bigrams = createBigrams(positive_words_arr)\n",
    "positive_unigrams_freq_dist, number_of_positive_unigrams = createUnigrams(positive_words_arr)\n"
   ]
  },
  {
   "cell_type": "markdown",
   "metadata": {},
   "source": [
    "* Frequency distribution of negative bigrams"
   ]
  },
  {
   "cell_type": "code",
   "execution_count": 14,
   "metadata": {},
   "outputs": [
    {
     "data": {
      "text/plain": [
       "[(('bankoloth', 'politics'), 1),\n",
       " (('topita', 'samprdaya'), 1),\n",
       " (('samprdaya', 'wadak'), 1),\n",
       " (('wadak', 'ne'), 1),\n",
       " (('ne', 'topi'), 1),\n",
       " (('topi', 'me'), 1),\n",
       " (('me', 'aurudu'), 1),\n",
       " (('aurudu', '5hata'), 1),\n",
       " (('5hata', 'ape'), 1),\n",
       " (('ape', 'oluwe'), 1),\n",
       " (('oluwe', 'idan'), 1),\n",
       " (('idan', 'kawa'), 1),\n",
       " (('sora', 'kame'), 1),\n",
       " (('kame', 'arambaya'), 1),\n",
       " (('arambaya', 'ada'), 1),\n",
       " (('ada', 'wena'), 1),\n",
       " (('wena', 'vita'), 1),\n",
       " (('vita', 'rate'), 1),\n",
       " (('rate', 'thathwe'), 1),\n",
       " (('thathwe', 'penawa'), 1)]"
      ]
     },
     "execution_count": 14,
     "metadata": {},
     "output_type": "execute_result"
    }
   ],
   "source": [
    "negative_bigrams_freq_dist.most_common(20)"
   ]
  },
  {
   "cell_type": "markdown",
   "metadata": {},
   "source": [
    "* Frequency distribution of positive bigrams"
   ]
  },
  {
   "cell_type": "code",
   "execution_count": 15,
   "metadata": {},
   "outputs": [
    {
     "data": {
      "text/plain": [
       "[(('jayen', 'jayama'), 3),\n",
       " (('janapathi', 'thumani'), 2),\n",
       " (('oba', 'thuma'), 2),\n",
       " (('theruwan', 'saranai'), 2),\n",
       " (('tharuna', 'parapura'), 2),\n",
       " (('oba', 'tuma'), 2),\n",
       " (('rate', 'nayakaya'), 2),\n",
       " (('ape', 'hadavate'), 1),\n",
       " (('hadavate', 'viruva'), 1),\n",
       " (('obe', 'eee'), 1),\n",
       " (('eee', 'wachana'), 1),\n",
       " (('wachana', 'tika'), 1),\n",
       " (('tika', 'mulu'), 1),\n",
       " (('mulu', 'mahat'), 1),\n",
       " (('mahat', 'tharuna'), 1),\n",
       " (('tharuna', 'prajawatama'), 1),\n",
       " (('prajawatama', 'wishala'), 1),\n",
       " (('wishala', 'shaktiyak'), 1),\n",
       " (('shaktiyak', 'janapathi'), 1),\n",
       " (('ape', 'rata'), 1)]"
      ]
     },
     "execution_count": 15,
     "metadata": {},
     "output_type": "execute_result"
    }
   ],
   "source": [
    "positive_bigrams_freq_dist.most_common(20)"
   ]
  },
  {
   "cell_type": "markdown",
   "metadata": {},
   "source": [
    "* unique number of negative unigrams"
   ]
  },
  {
   "cell_type": "code",
   "execution_count": 16,
   "metadata": {},
   "outputs": [
    {
     "data": {
      "text/plain": [
       "241"
      ]
     },
     "execution_count": 16,
     "metadata": {},
     "output_type": "execute_result"
    }
   ],
   "source": [
    "unique_number_of_negative_unigrams = len(negative_unigrams_freq_dist)\n",
    "unique_number_of_negative_unigrams"
   ]
  },
  {
   "cell_type": "markdown",
   "metadata": {},
   "source": [
    "* unique number of positive unigrams"
   ]
  },
  {
   "cell_type": "code",
   "execution_count": 17,
   "metadata": {},
   "outputs": [
    {
     "data": {
      "text/plain": [
       "272"
      ]
     },
     "execution_count": 17,
     "metadata": {},
     "output_type": "execute_result"
    }
   ],
   "source": [
    "unique_number_of_positive_unigrams = len(positive_unigrams_freq_dist)\n",
    "unique_number_of_positive_unigrams"
   ]
  },
  {
   "cell_type": "markdown",
   "metadata": {},
   "source": [
    "* all negative unigrams"
   ]
  },
  {
   "cell_type": "code",
   "execution_count": 18,
   "metadata": {},
   "outputs": [
    {
     "data": {
      "text/plain": [
       "292"
      ]
     },
     "execution_count": 18,
     "metadata": {},
     "output_type": "execute_result"
    }
   ],
   "source": [
    "number_of_negative_unigrams"
   ]
  },
  {
   "cell_type": "markdown",
   "metadata": {},
   "source": [
    "* all positive unigrams"
   ]
  },
  {
   "cell_type": "code",
   "execution_count": 19,
   "metadata": {},
   "outputs": [
    {
     "data": {
      "text/plain": [
       "354"
      ]
     },
     "execution_count": 19,
     "metadata": {},
     "output_type": "execute_result"
    }
   ],
   "source": [
    "number_of_positive_unigrams"
   ]
  },
  {
   "cell_type": "markdown",
   "metadata": {},
   "source": [
    "8. Bigrams along with their probability "
   ]
  },
  {
   "cell_type": "code",
   "execution_count": 20,
   "metadata": {},
   "outputs": [],
   "source": [
    "# Bigrams along with their probability \n",
    "\n",
    "def calcBigramProbability(bigram_freq_dist, unigram_freq_dist, number_of_unigrams):\n",
    "\n",
    "    listOfProbability = {}\n",
    "\n",
    "    for bigram in bigram_freq_dist:\n",
    "        word1 = bigram[0]\n",
    "        word2 = bigram[1]\n",
    "        listOfProbability[bigram] = (bigram_freq_dist[bigram]+1) / (unigram_freq_dist['{}'.format(word1),]+number_of_unigrams)\n",
    "        #print(bigram_freq_dist[bigram],'+ 1 / ', unigram_freq_dist['{}'.format(word1),], ' + ', number_of_unigrams, '= ', )\n",
    "        #listOfProbability[bigram] = (bigram_freq_dist[bigram]) / (unigram_freq_dist['{}'.format(word1),])\n",
    "    return listOfProbability\n"
   ]
  },
  {
   "cell_type": "code",
   "execution_count": 21,
   "metadata": {},
   "outputs": [],
   "source": [
    "negative_listOfProbability = calcBigramProbability(negative_bigrams_freq_dist, negative_unigrams_freq_dist, unique_number_of_negative_unigrams)"
   ]
  },
  {
   "cell_type": "code",
   "execution_count": 22,
   "metadata": {},
   "outputs": [],
   "source": [
    "positive_listOfProbability = calcBigramProbability(positive_bigrams_freq_dist, positive_unigrams_freq_dist, unique_number_of_positive_unigrams)"
   ]
  },
  {
   "cell_type": "code",
   "execution_count": 23,
   "metadata": {},
   "outputs": [
    {
     "data": {
      "text/plain": [
       "{('bankoloth', 'politics'): 0.008264462809917356,\n",
       " ('topita', 'samprdaya'): 0.008264462809917356,\n",
       " ('samprdaya', 'wadak'): 0.008264462809917356,\n",
       " ('wadak', 'ne'): 0.00823045267489712,\n",
       " ('ne', 'topi'): 0.00819672131147541,\n",
       " ('topi', 'me'): 0.00819672131147541,\n",
       " ('me', 'aurudu'): 0.00819672131147541,\n",
       " ('aurudu', '5hata'): 0.00819672131147541,\n",
       " ('5hata', 'ape'): 0.008264462809917356,\n",
       " ('ape', 'oluwe'): 0.008264462809917356,\n",
       " ('oluwe', 'idan'): 0.008264462809917356,\n",
       " ('idan', 'kawa'): 0.008264462809917356,\n",
       " ('sora', 'kame'): 0.008264462809917356,\n",
       " ('kame', 'arambaya'): 0.008264462809917356,\n",
       " ('arambaya', 'ada'): 0.008264462809917356,\n",
       " ('ada', 'wena'): 0.008264462809917356,\n",
       " ('wena', 'vita'): 0.008264462809917356,\n",
       " ('vita', 'rate'): 0.008264462809917356,\n",
       " ('rate', 'thathwe'): 0.008264462809917356,\n",
       " ('thathwe', 'penawa'): 0.008264462809917356,\n",
       " ('penawa', 'ne'): 0.008264462809917356,\n",
       " ('ne', '225'): 0.00819672131147541,\n",
       " ('225', 'oyala'): 0.00823045267489712,\n",
       " ('oyala', 'thama'): 0.008264462809917356,\n",
       " ('thama', 'hodatama'): 0.008264462809917356,\n",
       " ('hodatama', 'kale'): 0.008264462809917356,\n",
       " ('mahajana', 'mudal'): 0.008264462809917356,\n",
       " ('mudal', 'hora'): 0.008264462809917356,\n",
       " ('hora', 'kama'): 0.00816326530612245,\n",
       " ('kama', 'namagiya'): 0.008264462809917356,\n",
       " ('namagiya', 'aparadakarayo'): 0.008264462809917356,\n",
       " ('aparadakarayo', 'tiyana'): 0.008264462809917356,\n",
       " ('tiyana', 'deel'): 0.00823045267489712,\n",
       " ('deel', 'gasima'): 0.008264462809917356,\n",
       " ('gasima', 'me'): 0.008264462809917356,\n",
       " ('me', 'seratama'): 0.00819672131147541,\n",
       " ('lokaye', 'sitina'): 0.008264462809917356,\n",
       " ('sitina', 'modama'): 0.008264462809917356,\n",
       " ('modama', 'chanda'): 0.008264462809917356,\n",
       " ('chanda', 'dayakayo'): 0.00823045267489712,\n",
       " ('dayakayo', 'inna'): 0.008264462809917356,\n",
       " ('inna', 'rata'): 0.00823045267489712,\n",
       " ('rata', 'nisa'): 0.00819672131147541,\n",
       " ('nisa', 'uba'): 0.008264462809917356,\n",
       " ('uba', 'aliye'): 0.008264462809917356,\n",
       " ('topi', 'miharak'): 0.00819672131147541,\n",
       " ('miharak', 'wadak'): 0.008264462809917356,\n",
       " ('wadak', 'na'): 0.00823045267489712,\n",
       " ('na', 'thopen'): 0.00823045267489712,\n",
       " ('mun', 'pissuwen'): 0.00823045267489712,\n",
       " ('pissuwen', 'dodawanne'): 0.008264462809917356,\n",
       " ('dodawanne', 'ganan'): 0.008264462809917356,\n",
       " ('ganan', 'ganna'): 0.008264462809917356,\n",
       " ('ganna', 'epha'): 0.00823045267489712,\n",
       " ('mu', 'apiwa'): 0.008264462809917356,\n",
       " ('apiwa', 'kawa'): 0.008264462809917356,\n",
       " ('kawa', 'garu'): 0.00823045267489712,\n",
       " ('garu', 'janadepathi'): 0.008264462809917356,\n",
       " ('janadepathi', 'keyanda'): 0.008264462809917356,\n",
       " ('keyanda', 'apa'): 0.008264462809917356,\n",
       " ('apa', 'muta'): 0.008264462809917356,\n",
       " ('pissu', 'hutan'): 0.008264462809917356,\n",
       " ('tho', 'yanne'): 0.008264462809917356,\n",
       " ('yanne', 'highway'): 0.008264462809917356,\n",
       " ('highway', 'eke'): 0.008264462809917356,\n",
       " ('eke', 'salli'): 0.00823045267489712,\n",
       " ('salli', 'gewalada'): 0.00823045267489712,\n",
       " ('gewalada', 'ane'): 0.008264462809917356,\n",
       " ('ane', 'hukahan'): 0.00819672131147541,\n",
       " ('hukahan', 'manthri'): 0.008264462809917356,\n",
       " ('manthri', 'lollo'): 0.008264462809917356,\n",
       " ('anadipati', 'tumage'): 0.008264462809917356,\n",
       " ('tumage', 'baila'): 0.008264462809917356,\n",
       " ('baila', 'wetara'): 0.00823045267489712,\n",
       " ('wetara', 'wada'): 0.008264462809917356,\n",
       " ('wada', 'naa'): 0.008264462809917356,\n",
       " ('ane', 'plyan'): 0.00819672131147541,\n",
       " ('plyan', 'mahattayo'): 0.008264462809917356,\n",
       " ('mahattayo', 'ynna'): 0.008264462809917356,\n",
       " ('ynna', '225'): 0.008264462809917356,\n",
       " ('225', 'kiynne'): 0.00823045267489712,\n",
       " ('kiynne', 'rata'): 0.008264462809917356,\n",
       " ('rata', 'kala'): 0.00819672131147541,\n",
       " ('kala', 'vinasha'): 0.008130081300813009,\n",
       " ('vinasha', 'karanna'): 0.008264462809917356,\n",
       " ('karanna', 'apu'): 0.008264462809917356,\n",
       " ('apu', 'kalakanni'): 0.008264462809917356,\n",
       " ('kalakanni', 'tikak'): 0.008264462809917356,\n",
       " ('mewata', 'rawtena'): 0.008264462809917356,\n",
       " ('rawtena', 'epa'): 0.008264462809917356,\n",
       " ('epa', 'munokokma'): 0.008264462809917356,\n",
       " ('munokokma', 'horu'): 0.008264462809917356,\n",
       " ('goverment', 'eke'): 0.008264462809917356,\n",
       " ('eke', 'vada'): 0.00823045267489712,\n",
       " ('vada', 'dan'): 0.008264462809917356,\n",
       " ('dan', 'janata'): 0.008130081300813009,\n",
       " ('janata', 'hitavadi'): 0.008264462809917356,\n",
       " ('hitavadi', 'na'): 0.008264462809917356,\n",
       " ('boru', 'kiya'): 0.008264462809917356,\n",
       " ('kiya', 'kiya'): 0.00823045267489712,\n",
       " ('kiya', 'yanawa'): 0.00823045267489712,\n",
       " ('rajapakshala', 'gana'): 0.008264462809917356,\n",
       " ('gana', 'dan'): 0.00823045267489712,\n",
       " ('dan', 'apata'): 0.008130081300813009,\n",
       " ('apata', 'pahadeemak'): 0.008264462809917356,\n",
       " ('pahadeemak', 'naha'): 0.008264462809917356,\n",
       " ('watina', 'tanwanasala'): 0.008264462809917356,\n",
       " ('tanwanasala', 'munpessu'): 0.008264462809917356,\n",
       " ('munpessu', 'kelinawa'): 0.008264462809917356,\n",
       " ('oya', 'gonna'): 0.008264462809917356,\n",
       " ('gonna', 'buruwa'): 0.008264462809917356,\n",
       " ('buruwa', 'aurudu'): 0.008264462809917356,\n",
       " ('aurudu', 'ganak'): 0.00819672131147541,\n",
       " ('ganak', 'idala'): 0.008264462809917356,\n",
       " ('idala', 'monawada'): 0.008264462809917356,\n",
       " ('monawada', 'kare'): 0.008264462809917356,\n",
       " ('kare', 'oun'): 0.008264462809917356,\n",
       " ('oun', 'okkoma'): 0.008264462809917356,\n",
       " ('okkoma', 'merila'): 0.008264462809917356,\n",
       " ('merila', 'giyanam'): 0.008264462809917356,\n",
       " ('giyanam', 'hodai'): 0.008264462809917356,\n",
       " ('marenna', 'inna'): 0.008264462809917356,\n",
       " ('inna', 'unuth'): 0.00823045267489712,\n",
       " ('unuth', 'wikunan'): 0.008264462809917356,\n",
       " ('wikunan', 'kana'): 0.008264462809917356,\n",
       " ('kana', 'jara'): 0.00823045267489712,\n",
       " ('jara', 'hetta'): 0.008264462809917356,\n",
       " ('henaganna', 'oni'): 0.008264462809917356,\n",
       " ('oni', 'ne'): 0.00823045267489712,\n",
       " ('ne', 'munta'): 0.00819672131147541,\n",
       " ('munta', 'gana'): 0.00819672131147541,\n",
       " ('gana', 'thattayo'): 0.00823045267489712,\n",
       " ('ubala', 'maruni'): 0.00823045267489712,\n",
       " ('maruni', 'dawasata'): 0.008264462809917356,\n",
       " ('dawasata', 'kiribarth'): 0.008264462809917356,\n",
       " ('kiribarth', 'uyala'): 0.008264462809917356,\n",
       " ('uyala', 'samaranna'): 0.008264462809917356,\n",
       " ('samaranna', 'oni'): 0.008264462809917356,\n",
       " ('patta', 'horaaa'): 0.008264462809917356,\n",
       " ('horaaa', 'banku'): 0.008264462809917356,\n",
       " ('banku', 'kadan'): 0.008264462809917356,\n",
       " ('kadan', 'kala'): 0.008264462809917356,\n",
       " ('kala', 'ratath'): 0.008130081300813009,\n",
       " ('ratath', 'kala'): 0.008264462809917356,\n",
       " ('kala', 'bombath'): 0.008130081300813009,\n",
       " ('bombath', 'gassala'): 0.008264462809917356,\n",
       " ('gassala', 'dan'): 0.008264462809917356,\n",
       " ('dan', 'baila'): 0.008130081300813009,\n",
       " ('baila', 'ghanwa'): 0.00823045267489712,\n",
       " ('rata', 'puluwan'): 0.00819672131147541,\n",
       " ('puluwan', 'tharam'): 0.00823045267489712,\n",
       " ('tharam', 'naya'): 0.00823045267489712,\n",
       " ('naya', 'kara'): 0.008264462809917356,\n",
       " ('kara', 'un'): 0.00823045267489712,\n",
       " ('un', 'kotipatiyo'): 0.008264462809917356,\n",
       " ('kotipatiyo', 'una'): 0.008264462809917356,\n",
       " ('una', 'param'): 0.008264462809917356,\n",
       " ('param', 'para'): 0.008264462809917356,\n",
       " ('para', 'ganakat'): 0.008264462809917356,\n",
       " ('ganakat', 'hammba'): 0.008264462809917356,\n",
       " ('hammba', 'kara'): 0.008264462809917356,\n",
       " ('ane', 'palayan'): 0.00819672131147541,\n",
       " ('palayan', 'h'): 0.008264462809917356,\n",
       " ('h', 'to'): 0.008264462809917356,\n",
       " ('to', 'yanna'): 0.008264462809917356,\n",
       " ('yanna', 'ubala'): 0.008264462809917356,\n",
       " ('ubala', 'aurudu'): 0.00823045267489712,\n",
       " ('aurudu', '5'): 0.00819672131147541,\n",
       " ('5', 'keruwe'): 0.008264462809917356,\n",
       " ('keruwe', 'nithi'): 0.008264462809917356,\n",
       " ('nithi', 'garukawa'): 0.008264462809917356,\n",
       " ('garukawa', 'redda'): 0.008264462809917356,\n",
       " ('redda', 'thamai'): 0.008264462809917356,\n",
       " ('bolata', 'chanda'): 0.008264462809917356,\n",
       " ('chanda', 'gannada'): 0.00823045267489712,\n",
       " ('gannada', 'owa'): 0.008264462809917356,\n",
       " ('owa', 'kiyanne'): 0.008264462809917356,\n",
       " ('pala', 'ponnayo'): 0.008264462809917356,\n",
       " ('ponnayo', 'yanda'): 0.008264462809917356,\n",
       " ('yanda', 'topi'): 0.008264462809917356,\n",
       " ('topi', 'thawath'): 0.00819672131147541,\n",
       " ('thawath', 'kata'): 0.008264462809917356,\n",
       " ('kata', 'karanawa'): 0.008264462809917356,\n",
       " ('karanawa', 'lajja'): 0.008264462809917356,\n",
       " ('lajja', 'natuwa'): 0.008264462809917356,\n",
       " ('echchara', 'thannahawak'): 0.008264462809917356,\n",
       " ('thannahawak', 'yako'): 0.008264462809917356,\n",
       " ('yako', 'dan'): 0.008264462809917356,\n",
       " ('dan', 'gedarat'): 0.008130081300813009,\n",
       " ('gedarat', 'wela'): 0.008264462809917356,\n",
       " ('wela', 'banak'): 0.008264462809917356,\n",
       " ('banak', 'dahamak'): 0.008264462809917356,\n",
       " ('dahamak', 'adahagen'): 0.008264462809917356,\n",
       " ('adahagen', 'hitapiyako'): 0.008264462809917356,\n",
       " ('hora', 'kanna'): 0.00816326530612245,\n",
       " ('kanna', 'puluwan'): 0.00823045267489712,\n",
       " ('puluwan', 'taram'): 0.00823045267489712,\n",
       " ('taram', 'hora'): 0.008264462809917356,\n",
       " ('hora', 'kala'): 0.00816326530612245,\n",
       " ('kala', 'kala'): 0.008130081300813009,\n",
       " ('kala', 'dan'): 0.008130081300813009,\n",
       " ('dan', 'yanawa'): 0.008130081300813009,\n",
       " ('yanawa', 'pansalgane'): 0.00823045267489712,\n",
       " ('pansalgane', 'karapu'): 0.008264462809917356,\n",
       " ('karapu', 'pau'): 0.00819672131147541,\n",
       " ('pau', 'hodaganna'): 0.008264462809917356,\n",
       " ('darme', 'vikunm'): 0.008264462809917356,\n",
       " ('vikunm', 'kana'): 0.008264462809917356,\n",
       " ('kana', 'pra'): 0.00823045267489712,\n",
       " ('pra', 'haththa'): 0.008264462809917356,\n",
       " ('ou', 'hora'): 0.008264462809917356,\n",
       " ('hora', 'kapuwa'): 0.00816326530612245,\n",
       " ('kapuwa', 'thiyenawa'): 0.008264462809917356,\n",
       " ('thiyenawa', 'ona'): 0.008264462809917356,\n",
       " ('ona', 'tharam'): 0.008264462809917356,\n",
       " ('tharam', '5000'): 0.00823045267489712,\n",
       " ('5000', 'dipalla'): 0.008264462809917356,\n",
       " ('chande', 'tiyana'): 0.00823045267489712,\n",
       " ('tiyana', 'kota'): 0.00823045267489712,\n",
       " ('kota', 'vitharai'): 0.008264462809917356,\n",
       " ('vitharai', 'minissu'): 0.008264462809917356,\n",
       " ('minissu', 'watinne'): 0.008264462809917356,\n",
       " ('watinne', 'munta'): 0.008264462809917356,\n",
       " ('munta', 'hena'): 0.00819672131147541,\n",
       " ('hena', 'gahanna'): 0.008264462809917356,\n",
       " ('gahanna', 'one'): 0.008264462809917356,\n",
       " ('one', 'me'): 0.008264462809917356,\n",
       " ('me', 'karapu'): 0.00819672131147541,\n",
       " ('karapu', 'wadeta'): 0.00819672131147541,\n",
       " ('apathayo', 'mun'): 0.008264462809917356,\n",
       " ('mun', 'janatha'): 0.00823045267489712,\n",
       " ('janatha', 'niyigithayo'): 0.008264462809917356,\n",
       " ('niyigithayo', 'newei'): 0.008264462809917356,\n",
       " ('ko', 'mahaththayo'): 0.008264462809917356,\n",
       " ('mahaththayo', 'yahapalana'): 0.008264462809917356,\n",
       " ('yahapalana', 'kale'): 0.008264462809917356,\n",
       " ('kale', 'ithuru'): 0.00823045267489712,\n",
       " ('ithuru', 'karapu'): 0.008264462809917356,\n",
       " ('karapu', 'salli'): 0.00819672131147541,\n",
       " ('ahanam', 'ai'): 0.008264462809917356,\n",
       " ('ai', 'dupath'): 0.008264462809917356,\n",
       " ('dupath', 'minussungen'): 0.008264462809917356,\n",
       " ('minussungen', 'higa'): 0.008264462809917356,\n",
       " ('higa', 'kanna'): 0.008264462809917356,\n",
       " ('kanna', 'ganna'): 0.00823045267489712,\n",
       " ('ganna', 'kiyapiyakoo'): 0.00823045267489712,\n",
       " ('ammata', 'siri'): 0.008264462809917356,\n",
       " ('siri', 'leddun'): 0.008264462809917356,\n",
       " ('leddun', 'genut'): 0.008264462809917356,\n",
       " ('genut', 'hambara'): 0.008264462809917356,\n",
       " ('hambara', 'karla'): 0.008264462809917356,\n",
       " ('karla', 'da'): 0.008264462809917356,\n",
       " ('munta', 'chande'): 0.00819672131147541,\n",
       " ('chande', 'dunnu'): 0.00823045267489712,\n",
       " ('dunnu', 'api'): 0.008264462809917356,\n",
       " ('api', 'waredi'): 0.008264462809917356}"
      ]
     },
     "execution_count": 23,
     "metadata": {},
     "output_type": "execute_result"
    }
   ],
   "source": [
    "negative_listOfProbability"
   ]
  },
  {
   "cell_type": "code",
   "execution_count": 24,
   "metadata": {
    "scrolled": true
   },
   "outputs": [
    {
     "data": {
      "text/plain": [
       "{('jayen', 'jayama'): 0.014545454545454545,\n",
       " ('janapathi', 'thumani'): 0.01090909090909091,\n",
       " ('oba', 'thuma'): 0.010676156583629894,\n",
       " ('theruwan', 'saranai'): 0.010948905109489052,\n",
       " ('tharuna', 'parapura'): 0.01079136690647482,\n",
       " ('oba', 'tuma'): 0.010676156583629894,\n",
       " ('rate', 'nayakaya'): 0.01090909090909091,\n",
       " ('ape', 'hadavate'): 0.007272727272727273,\n",
       " ('hadavate', 'viruva'): 0.007326007326007326,\n",
       " ('obe', 'eee'): 0.007326007326007326,\n",
       " ('eee', 'wachana'): 0.007326007326007326,\n",
       " ('wachana', 'tika'): 0.007326007326007326,\n",
       " ('tika', 'mulu'): 0.007326007326007326,\n",
       " ('mulu', 'mahat'): 0.007272727272727273,\n",
       " ('mahat', 'tharuna'): 0.007326007326007326,\n",
       " ('tharuna', 'prajawatama'): 0.007194244604316547,\n",
       " ('prajawatama', 'wishala'): 0.007326007326007326,\n",
       " ('wishala', 'shaktiyak'): 0.007326007326007326,\n",
       " ('shaktiyak', 'janapathi'): 0.007326007326007326,\n",
       " ('ape', 'rata'): 0.007272727272727273,\n",
       " ('rata', 'wasanawanthai'): 0.007194244604316547,\n",
       " ('obathuma', 'rate'): 0.007272727272727273,\n",
       " ('rate', 'janapathi'): 0.007272727272727273,\n",
       " ('janapathi', 'vela'): 0.007272727272727273,\n",
       " ('vela', 'aurudu'): 0.007326007326007326,\n",
       " ('aurudu', '15'): 0.007326007326007326,\n",
       " ('15', '20'): 0.007326007326007326,\n",
       " ('20', 'innaoni'): 0.007326007326007326,\n",
       " ('innaoni', 'obatumata'): 0.007326007326007326,\n",
       " ('obatumata', 'jaya'): 0.007326007326007326,\n",
       " ('jaya', 'jaya'): 0.007246376811594203,\n",
       " ('jaya', 've'): 0.007246376811594203,\n",
       " ('jayama', 'wewa'): 0.007272727272727273,\n",
       " ('wewa', 'ada'): 0.007326007326007326,\n",
       " ('ada', 'dawasa'): 0.007272727272727273,\n",
       " ('oba', 'thumaage'): 0.0071174377224199285,\n",
       " ('thumaage', 'aadarshaya'): 0.007326007326007326,\n",
       " ('aadarshaya', 'rajaye'): 0.007326007326007326,\n",
       " ('rajaye', 'anith'): 0.007326007326007326,\n",
       " ('anith', 'ayath'): 0.007326007326007326,\n",
       " ('ayath', 'kriyaathmaka'): 0.007326007326007326,\n",
       " ('kriyaathmaka', 'karai'): 0.007326007326007326,\n",
       " ('karai', 'kiyala'): 0.007326007326007326,\n",
       " ('kiyala', 'api'): 0.007326007326007326,\n",
       " ('api', 'balaaporoththu'): 0.007220216606498195,\n",
       " ('balaaporoththu', 'wenawa'): 0.007326007326007326,\n",
       " ('api', 'oba'): 0.007220216606498195,\n",
       " ('thuma', 'samagai'): 0.0072992700729927005,\n",
       " ('asirimath', 'ratak'): 0.007326007326007326,\n",
       " ('ratak', 'godanageemata'): 0.0072992700729927005,\n",
       " ('godanageemata', 'nayakathwaya'): 0.007326007326007326,\n",
       " ('nayakathwaya', 'wagema'): 0.007326007326007326,\n",
       " ('wagema', 'dayakathwada'): 0.007326007326007326,\n",
       " ('dayakathwada', 'ithama'): 0.007326007326007326,\n",
       " ('ithama', 'wadagath'): 0.007326007326007326,\n",
       " ('ekanam', 'honda'): 0.007326007326007326,\n",
       " ('honda', 'wedak'): 0.007326007326007326,\n",
       " ('wedak', 'wage'): 0.007272727272727273,\n",
       " ('wage', 'penenawa'): 0.0072992700729927005,\n",
       " ('penenawa', 'balamu'): 0.007326007326007326,\n",
       " ('balamu', 'balamu'): 0.0072992700729927005,\n",
       " ('hitapu', 'vidiha'): 0.007326007326007326,\n",
       " ('vidiha', 'nova'): 0.007326007326007326,\n",
       " ('nova', 'innavidaihai'): 0.007326007326007326,\n",
       " ('innavidaihai', 'vadagath'): 0.007326007326007326,\n",
       " ('mema', 'kapavime'): 0.007326007326007326,\n",
       " ('kapavime', 'prathipala'): 0.007326007326007326,\n",
       " ('prathipala', 'nisa'): 0.007326007326007326,\n",
       " ('nisa', 'tamae'): 0.007326007326007326,\n",
       " ('tamae', 'ada'): 0.007326007326007326,\n",
       " ('ada', 'api'): 0.007272727272727273,\n",
       " ('api', 'husma'): 0.007220216606498195,\n",
       " ('husma', 'ganne'): 0.007326007326007326,\n",
       " ('ganne', 'obata'): 0.007326007326007326,\n",
       " ('obata', 'boho'): 0.0072992700729927005,\n",
       " ('boho', 'pin'): 0.0072992700729927005,\n",
       " ('wade', 'niyamay'): 0.007326007326007326,\n",
       " ('niyamay', 'niyameta'): 0.007326007326007326,\n",
       " ('niyameta', 'wadakaranawa'): 0.007326007326007326,\n",
       " ('wadakaranawa', 'thawa'): 0.007326007326007326,\n",
       " ('thawa', 'tikak'): 0.007326007326007326,\n",
       " ('tikak', 'hoda'): 0.007326007326007326,\n",
       " ('hoda', 'liyanna'): 0.007272727272727273,\n",
       " ('liyanna', 'set'): 0.007326007326007326,\n",
       " ('set', 'ekak'): 0.007326007326007326,\n",
       " ('ekak', 'bassanna'): 0.007326007326007326,\n",
       " ('obathumage', 'sakthiyata'): 0.007272727272727273,\n",
       " ('sakthiyata', 'athwalak'): 0.007326007326007326,\n",
       " ('athwalak', 'theruwan'): 0.007326007326007326,\n",
       " ('thuma', 'ganna'): 0.0072992700729927005,\n",
       " ('ganna', 'uthsahaya'): 0.0072992700729927005,\n",
       " ('uthsahaya', 'anik'): 0.007326007326007326,\n",
       " ('anik', 'ewunta'): 0.007326007326007326,\n",
       " ('ewunta', 'adarshayak'): 0.007326007326007326,\n",
       " ('hari', 'kenata'): 0.007326007326007326,\n",
       " ('kenata', 'rata'): 0.007326007326007326,\n",
       " ('rata', 'baara'): 0.007194244604316547,\n",
       " ('baara', 'una'): 0.007326007326007326,\n",
       " ('una', 'witharai'): 0.007326007326007326,\n",
       " ('witharai', 'me'): 0.007326007326007326,\n",
       " ('me', 'tharuna'): 0.007272727272727273,\n",
       " ('parapura', 'owunge'): 0.0072992700729927005,\n",
       " ('owunge', 'hakiyawa'): 0.007326007326007326,\n",
       " ('hakiyawa', 'ratat'): 0.007326007326007326,\n",
       " ('ratat', 'alankaara'): 0.007326007326007326,\n",
       " ('alankaara', 'karanna'): 0.007326007326007326,\n",
       " ('karanna', 'gaththa'): 0.007326007326007326,\n",
       " ('sathiyak', 'athulatha'): 0.007326007326007326,\n",
       " ('athulatha', 'karapu'): 0.007326007326007326,\n",
       " ('karapu', 'wada'): 0.007326007326007326,\n",
       " ('wada', 'dakkama'): 0.0072992700729927005,\n",
       " ('dakkama', 'sathutu'): 0.007326007326007326,\n",
       " ('sathutu', 'hithenawa'): 0.007326007326007326,\n",
       " ('boho', 'dena'): 0.0072992700729927005,\n",
       " ('dena', 'oba'): 0.007326007326007326,\n",
       " ('oba', 'samagin'): 0.0071174377224199285,\n",
       " ('samagin', 'janapathi'): 0.007326007326007326,\n",
       " ('teruwan', 'saranai'): 0.007326007326007326,\n",
       " ('saranai', 'obathumage'): 0.007272727272727273,\n",
       " ('obathumage', 'nayakathwayen'): 0.007272727272727273,\n",
       " ('nayakathwayen', 'mulu'): 0.007326007326007326,\n",
       " ('mulu', 'ratama'): 0.007272727272727273,\n",
       " ('ratama', 'wenaswemin'): 0.007326007326007326,\n",
       " ('wenaswemin', 'pawathi'): 0.007326007326007326,\n",
       " ('pawathi', 'adambarai'): 0.007326007326007326,\n",
       " ('adambarai', 'mage'): 0.0072992700729927005,\n",
       " ('mage', 'rata'): 0.007326007326007326,\n",
       " ('rata', 'gana'): 0.007194244604316547,\n",
       " ('deshapalakayan', 'athare'): 0.007326007326007326,\n",
       " ('athare', 'onama'): 0.007326007326007326,\n",
       " ('onama', 'welawaka'): 0.007326007326007326,\n",
       " ('welawaka', 'available'): 0.007326007326007326,\n",
       " ('available', 'leader'): 0.007326007326007326,\n",
       " ('leader', 'ship'): 0.007326007326007326,\n",
       " ('ship', 'jayantha'): 0.007326007326007326,\n",
       " ('jayantha', 'ayya'): 0.007326007326007326,\n",
       " ('ayya', 'eda'): 0.007326007326007326,\n",
       " ('eda', 'idan'): 0.007326007326007326,\n",
       " ('idan', 'janathawa'): 0.007326007326007326,\n",
       " ('janathawa', 'ekka'): 0.007326007326007326,\n",
       " ('garu', 'wimal'): 0.007272727272727273,\n",
       " ('wimal', 'amathi'): 0.0072992700729927005,\n",
       " ('amathi', 'thumani'): 0.007326007326007326,\n",
       " ('thumani', 'api'): 0.007272727272727273,\n",
       " ('api', 'hamadamath'): 0.007220216606498195,\n",
       " ('hamadamath', 'oba'): 0.007326007326007326,\n",
       " ('tuma', 'deshapremi'): 0.0072992700729927005,\n",
       " ('deshapremi', 'nayakayeku'): 0.007326007326007326,\n",
       " ('nayakayeku', 'bawa'): 0.007326007326007326,\n",
       " ('bawa', 'viswasa'): 0.0072992700729927005,\n",
       " ('viswasa', 'karanawa'): 0.007326007326007326,\n",
       " ('jayaweewaa', 'wimal'): 0.007326007326007326,\n",
       " ('wimal', 'sahodaraya'): 0.0072992700729927005,\n",
       " ('appachchi', 'pin'): 0.007326007326007326,\n",
       " ('pin', 'obathuma'): 0.0072992700729927005,\n",
       " ('obathuma', 'apita'): 0.007272727272727273,\n",
       " ('apita', 'davikenek'): 0.0072992700729927005,\n",
       " ('rata', 'nisi'): 0.007194244604316547,\n",
       " ('nisi', 'thanakata'): 0.007326007326007326,\n",
       " ('thanakata', 'ganna'): 0.007326007326007326,\n",
       " ('ganna', 'siyaluma'): 0.0072992700729927005,\n",
       " ('siyaluma', 'saktheya'): 0.007326007326007326,\n",
       " ('saktheya', 'dahiriya'): 0.007326007326007326,\n",
       " ('dahiriya', 'labewa'): 0.007326007326007326,\n",
       " ('denata', 'wedak'): 0.007326007326007326,\n",
       " ('wedak', 'karala'): 0.007272727272727273,\n",
       " ('karala', 'pennapu'): 0.007326007326007326,\n",
       " ('pennapu', 'ekma'): 0.007326007326007326,\n",
       " ('ekma', 'kena'): 0.007326007326007326,\n",
       " ('oba', 'wani'): 0.0071174377224199285,\n",
       " ('wani', 'niyama'): 0.007326007326007326,\n",
       " ('niyama', 'nayaka'): 0.007326007326007326,\n",
       " ('nayaka', 'thumek'): 0.007326007326007326,\n",
       " ('thumek', 'apita'): 0.007326007326007326,\n",
       " ('apita', 'labunama'): 0.0072992700729927005,\n",
       " ('danui', 'minisunta'): 0.007326007326007326,\n",
       " ('minisunta', 'ratak'): 0.007326007326007326,\n",
       " ('ratak', 'tiyena'): 0.0072992700729927005,\n",
       " ('tiyena', 'bawa'): 0.007326007326007326,\n",
       " ('bawa', 'danenne'): 0.0072992700729927005,\n",
       " ('dunna', 'manapaya'): 0.007326007326007326,\n",
       " ('manapaya', 'gena'): 0.007326007326007326,\n",
       " ('gena', 'ada'): 0.007326007326007326,\n",
       " ('ada', 'hadawathinma'): 0.007272727272727273,\n",
       " ('hadawathinma', 'sathutui'): 0.0072992700729927005,\n",
       " ('sathutui', 'amathithumani'): 0.007326007326007326,\n",
       " ('amathithumani', 'theruwan'): 0.0072992700729927005,\n",
       " ('pincidda', 'wenawa'): 0.007326007326007326,\n",
       " ('wenawa', 'garu'): 0.0072992700729927005,\n",
       " ('garu', 'amathithumani'): 0.007272727272727273,\n",
       " ('amathithumani', 'hamadama'): 0.0072992700729927005,\n",
       " ('hamadama', 'wage'): 0.007326007326007326,\n",
       " ('wage', 'obata'): 0.0072992700729927005,\n",
       " ('obata', 'jaya'): 0.0072992700729927005,\n",
       " ('jaya', 'weva'): 0.007246376811594203,\n",
       " ('suba', 'anagathayaka'): 0.007326007326007326,\n",
       " ('anagathayaka', 'pera'): 0.007326007326007326,\n",
       " ('pera', 'nimithy'): 0.007326007326007326,\n",
       " ('konda', 'kelin'): 0.007326007326007326,\n",
       " ('kelin', 'nayakayek'): 0.007326007326007326,\n",
       " ('nayakayek', 'ratata'): 0.0072992700729927005,\n",
       " ('ratata', 'ona'): 0.007326007326007326,\n",
       " ('ona', 'tharuna'): 0.007326007326007326,\n",
       " ('tharuna', 'aya'): 0.007194244604316547,\n",
       " ('aya', 'oba'): 0.007326007326007326,\n",
       " ('oba', 'wata'): 0.0071174377224199285,\n",
       " ('wata', 'sitinne'): 0.007326007326007326,\n",
       " ('sitinne', 'a'): 0.007326007326007326,\n",
       " ('a', 'nisai'): 0.007326007326007326,\n",
       " ('janadipathithumani', 'parawal'): 0.0072992700729927005,\n",
       " ('parawal', 'depaththe'): 0.007326007326007326,\n",
       " ('depaththe', 'gasuth'): 0.007326007326007326,\n",
       " ('gasuth', 'sitawamu'): 0.007326007326007326,\n",
       " ('sitawamu', 'me'): 0.007326007326007326,\n",
       " ('me', 'gaman'): 0.007272727272727273,\n",
       " ('niyamai', 'amathithuma'): 0.0072992700729927005,\n",
       " ('amathithuma', 'me'): 0.007326007326007326,\n",
       " ('me', 'anduwe'): 0.007272727272727273,\n",
       " ('anduwe', 'wadakarana'): 0.007326007326007326,\n",
       " ('wadakarana', 'amatiwarungen'): 0.0072992700729927005,\n",
       " ('amatiwarungen', 'kenek'): 0.007326007326007326,\n",
       " ('kenek', 'obathuma'): 0.007326007326007326,\n",
       " ('oba', 'thumata'): 0.0071174377224199285,\n",
       " ('thumata', 'jayen'): 0.007326007326007326,\n",
       " ('jayama', 'idiriyedi'): 0.007272727272727273,\n",
       " ('idiriyedi', 'labenawa'): 0.007326007326007326,\n",
       " ('labenawa', 'samanlal'): 0.007326007326007326,\n",
       " ('samanlal', 'mathuthumanta'): 0.007326007326007326,\n",
       " ('apith', 'ekathuwenawa'): 0.007326007326007326,\n",
       " ('ekathuwenawa', 'janadipathithumani'): 0.007326007326007326,\n",
       " ('janadipathithumani', 'tharuna'): 0.0072992700729927005,\n",
       " ('tharuna', 'hakiyawan'): 0.007194244604316547,\n",
       " ('hakiyawan', 'agaya'): 0.007326007326007326,\n",
       " ('agaya', 'kireema'): 0.007326007326007326,\n",
       " ('kireema', 'sathutata'): 0.007326007326007326,\n",
       " ('sathutata', 'karunak'): 0.007326007326007326,\n",
       " ('niyamai', 'wrada'): 0.0072992700729927005,\n",
       " ('wrada', 'nivaradi'): 0.007326007326007326,\n",
       " ('nivaradi', 'karamu'): 0.007326007326007326,\n",
       " ('obathuman', 'rate'): 0.007326007326007326,\n",
       " ('nayakaya', 'u'): 0.0072992700729927005,\n",
       " ('u', 'pamaninma'): 0.007326007326007326,\n",
       " ('pamaninma', 'tharuna'): 0.007326007326007326,\n",
       " ('parapura', 'kotharam'): 0.0072992700729927005,\n",
       " ('kotharam', 'pibideee'): 0.007326007326007326,\n",
       " ('pibideee', 'athda'): 0.007326007326007326,\n",
       " ('athda', 'yanna'): 0.007326007326007326,\n",
       " ('yanna', 'mulu'): 0.007326007326007326,\n",
       " ('mulu', 'rata'): 0.007272727272727273,\n",
       " ('rata', 'pura'): 0.007194244604316547,\n",
       " ('pura', 'dakiya'): 0.007326007326007326,\n",
       " ('dakiya', 'haka'): 0.007326007326007326,\n",
       " ('gotabaya', 'janadipathi'): 0.007326007326007326,\n",
       " ('janadipathi', 'tumani'): 0.007326007326007326,\n",
       " ('tumani', 'lankawe'): 0.007326007326007326,\n",
       " ('lankawe', 'podu'): 0.007326007326007326,\n",
       " ('podu', 'prawahanaya'): 0.007326007326007326,\n",
       " ('prawahanaya', 'pita'): 0.007326007326007326,\n",
       " ('pita', 'rata'): 0.007326007326007326,\n",
       " ('rata', 'men'): 0.007194244604316547,\n",
       " ('men', 'diunu'): 0.007326007326007326,\n",
       " ('diunu', 'karanda'): 0.007326007326007326,\n",
       " ('odak', 'hoda'): 0.007326007326007326,\n",
       " ('hoda', 'wedak'): 0.007272727272727273,\n",
       " ('wedak', 'obathumata'): 0.007272727272727273,\n",
       " ('obathumata', 'api'): 0.007326007326007326,\n",
       " ('api', 'hadawathinma'): 0.007220216606498195,\n",
       " ('hadawathinma', 'garu'): 0.0072992700729927005,\n",
       " ('garu', 'karana'): 0.007272727272727273,\n",
       " ('niwaradi', 'nayakathwak'): 0.007326007326007326,\n",
       " ('nayakathwak', 'daksha'): 0.007326007326007326,\n",
       " ('daksha', 'tharuna'): 0.007326007326007326,\n",
       " ('tharuna', 'parapurak'): 0.007194244604316547,\n",
       " ('parapurak', 'adambarai'): 0.007326007326007326,\n",
       " ('adambarai', 'budusaranai'): 0.0072992700729927005,\n",
       " ('obathumage', 'siyalu'): 0.007272727272727273,\n",
       " ('siyalu', 'weda'): 0.007326007326007326,\n",
       " ('weda', 'katayuthu'): 0.007326007326007326,\n",
       " ('katayuthu', 'athi'): 0.007326007326007326,\n",
       " ('athi', 'sarthaka'): 0.007326007326007326,\n",
       " ('sarthaka', 'wewi'): 0.007326007326007326,\n",
       " ('hitha', 'hoda'): 0.007326007326007326,\n",
       " ('hoda', 'manussayek'): 0.007272727272727273,\n",
       " ('manussayek', 'jaya'): 0.007326007326007326,\n",
       " ('jaya', 'niyathai'): 0.007246376811594203,\n",
       " ('deergayu', 'weva'): 0.007326007326007326,\n",
       " ('weva', 'niduk'): 0.007246376811594203,\n",
       " ('niduk', 'nirogee'): 0.007326007326007326,\n",
       " ('nirogee', 'weva'): 0.007326007326007326,\n",
       " ('weva', 'jayen'): 0.007246376811594203,\n",
       " ('jayama', 'weva'): 0.007272727272727273,\n",
       " ('wadakarana', 'nayakayek'): 0.0072992700729927005,\n",
       " ('nayakayek', 'ennakota'): 0.0072992700729927005,\n",
       " ('ennakota', 'hamoma'): 0.007326007326007326,\n",
       " ('hamoma', 'sathutin'): 0.007326007326007326,\n",
       " ('sathutin', 'wada'): 0.007326007326007326,\n",
       " ('tuma', 'milagata'): 0.0072992700729927005,\n",
       " ('milagata', 'rate'): 0.007326007326007326,\n",
       " ('nayakaya', 'viya'): 0.0072992700729927005,\n",
       " ('viya', 'utumai'): 0.007326007326007326,\n",
       " ('utumai', 'ape'): 0.007326007326007326,\n",
       " ('ape', 'prathanawa'): 0.007272727272727273}"
      ]
     },
     "execution_count": 24,
     "metadata": {},
     "output_type": "execute_result"
    }
   ],
   "source": [
    "positive_listOfProbability"
   ]
  },
  {
   "cell_type": "markdown",
   "metadata": {},
   "source": [
    "9. Method implementation to predict the probability "
   ]
  },
  {
   "cell_type": "code",
   "execution_count": 25,
   "metadata": {},
   "outputs": [],
   "source": [
    "def predectProbability(input_text, listOfProbability, number_of_unigrams, unigram_freq_dist):\n",
    "\n",
    "    #tokenizer = RegexpTokenizer(r\"\\w+\")\n",
    "    splt = input_text # tokenizer.tokenize(input_text.lower()) #input_text.split()\n",
    "    output_probability = 1\n",
    "    bilist = []\n",
    "    bigram = []\n",
    "    \n",
    "    for i in range(len(splt) - 1):\n",
    "        if i < len(splt) - 1:\n",
    "            bilist.append((splt[i], splt[i + 1]))\n",
    "            \n",
    "    #print(bilist)\n",
    "            \n",
    "    for i in range(len(bilist)):\n",
    "        word1='{}'.format(bilist[i][0]),\n",
    "        #print(bilist[i])\n",
    "        #print(word1 in unigram_freq_dist)\n",
    "        if bilist[i] in listOfProbability:\n",
    "            output_probability *= listOfProbability[bilist[i]]\n",
    "        else:\n",
    "            if word1 in unigram_freq_dist:\n",
    "                output_probability *= 1/(unigram_freq_dist[word1]+number_of_unigrams)\n",
    "            else:\n",
    "                output_probability *= 1/number_of_unigrams\n",
    "        #print('output_probability : ', output_probability)\n",
    "        #print('----------------------')        \n",
    "    return output_probability\n"
   ]
  },
  {
   "cell_type": "code",
   "execution_count": 26,
   "metadata": {},
   "outputs": [],
   "source": [
    "def model(comments):\n",
    "    prediction_results = []\n",
    "    prediction_results_probs =[]\n",
    "    for comment in comments:\n",
    "        \n",
    "        negative_prediction = predectProbability(comment, negative_listOfProbability, unique_number_of_negative_unigrams, negative_unigrams_freq_dist)\n",
    "        #print(\"n\", negative_prediction)\n",
    "        \n",
    "        positive_prediction = predectProbability(comment, positive_listOfProbability, unique_number_of_positive_unigrams, positive_unigrams_freq_dist)\n",
    "        #print(\"p\", positive_prediction)\n",
    "        \n",
    "        #print(\"------------------------\")\n",
    "        \n",
    "        if positive_prediction > negative_prediction:\n",
    "            prediction_result = 1\n",
    "            prediction_results_probs.append(positive_prediction)\n",
    "        else:\n",
    "            prediction_result = 0\n",
    "            prediction_results_probs.append(negative_prediction)\n",
    "            \n",
    "        prediction_results.append(prediction_result)\n",
    "        \n",
    "    return prediction_results, prediction_results_probs"
   ]
  },
  {
   "cell_type": "markdown",
   "metadata": {},
   "source": [
    "10. Model test with the testing data"
   ]
  },
  {
   "cell_type": "code",
   "execution_count": 27,
   "metadata": {},
   "outputs": [
    {
     "data": {
      "text/plain": [
       "[0, 0, 1, 0, 0, 0, 0, 0, 0, 0, 0, 0, 0, 0, 0, 0, 0, 0, 0, 0]"
      ]
     },
     "execution_count": 27,
     "metadata": {},
     "output_type": "execute_result"
    }
   ],
   "source": [
    "prediction,  prediction_results_probs= model(test['tokenized_comment'])\n",
    "test.insert(3, \"prediction\", prediction, True) \n",
    "test.insert(4, \"prediction _probability\", prediction_results_probs, True)\n",
    "prediction"
   ]
  },
  {
   "cell_type": "code",
   "execution_count": 28,
   "metadata": {},
   "outputs": [],
   "source": [
    "results = []\n",
    "for index in test.index:\n",
    "    if test['label'][index] == test['prediction'][index]:\n",
    "        results.append('pass')\n",
    "    else:\n",
    "        results.append('fail')\n",
    "test.insert(5, \"result\", results, True)"
   ]
  },
  {
   "cell_type": "code",
   "execution_count": 29,
   "metadata": {},
   "outputs": [
    {
     "data": {
      "text/html": [
       "<div>\n",
       "<style scoped>\n",
       "    .dataframe tbody tr th:only-of-type {\n",
       "        vertical-align: middle;\n",
       "    }\n",
       "\n",
       "    .dataframe tbody tr th {\n",
       "        vertical-align: top;\n",
       "    }\n",
       "\n",
       "    .dataframe thead th {\n",
       "        text-align: right;\n",
       "    }\n",
       "</style>\n",
       "<table border=\"1\" class=\"dataframe\">\n",
       "  <thead>\n",
       "    <tr style=\"text-align: right;\">\n",
       "      <th></th>\n",
       "      <th>comment</th>\n",
       "      <th>label</th>\n",
       "      <th>tokenized_comment</th>\n",
       "      <th>prediction</th>\n",
       "      <th>prediction _probability</th>\n",
       "      <th>result</th>\n",
       "    </tr>\n",
       "  </thead>\n",
       "  <tbody>\n",
       "    <tr>\n",
       "      <th>0</th>\n",
       "      <td>Jayawewaa.. Lassan apee rata..</td>\n",
       "      <td>1</td>\n",
       "      <td>[jayawewaa, lassan, apee, rata]</td>\n",
       "      <td>0</td>\n",
       "      <td>7.144122e-08</td>\n",
       "      <td>fail</td>\n",
       "    </tr>\n",
       "    <tr>\n",
       "      <th>1</th>\n",
       "      <td>Jayen jaya...</td>\n",
       "      <td>1</td>\n",
       "      <td>[jayen, jaya]</td>\n",
       "      <td>0</td>\n",
       "      <td>4.149378e-03</td>\n",
       "      <td>fail</td>\n",
       "    </tr>\n",
       "    <tr>\n",
       "      <th>2</th>\n",
       "      <td>Theruwan saranayi oba thumaata, jayen Jayama w...</td>\n",
       "      <td>1</td>\n",
       "      <td>[theruwan, saranayi, oba, thumaata, jayen, jay...</td>\n",
       "      <td>1</td>\n",
       "      <td>1.857077e-14</td>\n",
       "      <td>pass</td>\n",
       "    </tr>\n",
       "    <tr>\n",
       "      <th>3</th>\n",
       "      <td>Kaiya wethrari karapu deyak naa</td>\n",
       "      <td>0</td>\n",
       "      <td>[kaiya, wethrari, karapu, deyak, naa]</td>\n",
       "      <td>0</td>\n",
       "      <td>2.927919e-10</td>\n",
       "      <td>pass</td>\n",
       "    </tr>\n",
       "    <tr>\n",
       "      <th>4</th>\n",
       "      <td>Me wage 2.50 Pankadayo genella discuss karanna...</td>\n",
       "      <td>0</td>\n",
       "      <td>[me, wage, 2, 50, pankadayo, genella, discuss,...</td>\n",
       "      <td>0</td>\n",
       "      <td>8.643558e-20</td>\n",
       "      <td>pass</td>\n",
       "    </tr>\n",
       "    <tr>\n",
       "      <th>5</th>\n",
       "      <td>Muntane minissu chande denne wesa ballo</td>\n",
       "      <td>0</td>\n",
       "      <td>[muntane, minissu, chande, denne, wesa, ballo]</td>\n",
       "      <td>0</td>\n",
       "      <td>1.214863e-12</td>\n",
       "      <td>pass</td>\n",
       "    </tr>\n",
       "    <tr>\n",
       "      <th>6</th>\n",
       "      <td>Oita wada hodai toilet walak kadan kapan.</td>\n",
       "      <td>0</td>\n",
       "      <td>[oita, wada, hodai, toilet, walak, kadan, kapan]</td>\n",
       "      <td>0</td>\n",
       "      <td>5.040838e-15</td>\n",
       "      <td>pass</td>\n",
       "    </tr>\n",
       "    <tr>\n",
       "      <th>7</th>\n",
       "      <td>Pana adimin siti jathiyata nawa jiwayak dunne ...</td>\n",
       "      <td>1</td>\n",
       "      <td>[pana, adimin, siti, jathiyata, nawa, jiwayak,...</td>\n",
       "      <td>0</td>\n",
       "      <td>2.117779e-17</td>\n",
       "      <td>fail</td>\n",
       "    </tr>\n",
       "    <tr>\n",
       "      <th>8</th>\n",
       "      <td>Nodakin wimale uba..</td>\n",
       "      <td>0</td>\n",
       "      <td>[nodakin, wimale, uba]</td>\n",
       "      <td>0</td>\n",
       "      <td>1.721733e-05</td>\n",
       "      <td>pass</td>\n",
       "    </tr>\n",
       "    <tr>\n",
       "      <th>9</th>\n",
       "      <td>Borukara andu heththa apita sahane denava kiya...</td>\n",
       "      <td>0</td>\n",
       "      <td>[borukara, andu, heththa, apita, sahane, denav...</td>\n",
       "      <td>0</td>\n",
       "      <td>1.512967e-24</td>\n",
       "      <td>pass</td>\n",
       "    </tr>\n",
       "    <tr>\n",
       "      <th>10</th>\n",
       "      <td>Munta pissu kiyanne nikanda</td>\n",
       "      <td>0</td>\n",
       "      <td>[munta, pissu, kiyanne, nikanda]</td>\n",
       "      <td>0</td>\n",
       "      <td>6.998089e-08</td>\n",
       "      <td>pass</td>\n",
       "    </tr>\n",
       "    <tr>\n",
       "      <th>11</th>\n",
       "      <td>225 korona hadila kiyala dannako ??????</td>\n",
       "      <td>0</td>\n",
       "      <td>[225, korona, hadila, kiyala, dannako]</td>\n",
       "      <td>0</td>\n",
       "      <td>2.939968e-10</td>\n",
       "      <td>pass</td>\n",
       "    </tr>\n",
       "    <tr>\n",
       "      <th>12</th>\n",
       "      <td>Jayen jayamawewa gota. Mahinda mathidun. Depalata</td>\n",
       "      <td>1</td>\n",
       "      <td>[jayen, jayamawewa, gota, mahinda, mathidun, d...</td>\n",
       "      <td>0</td>\n",
       "      <td>1.230027e-12</td>\n",
       "      <td>fail</td>\n",
       "    </tr>\n",
       "    <tr>\n",
       "      <th>13</th>\n",
       "      <td>Mu kare yudde iwara karanna atha hitha dunna e...</td>\n",
       "      <td>0</td>\n",
       "      <td>[mu, kare, yudde, iwara, karanna, atha, hitha,...</td>\n",
       "      <td>0</td>\n",
       "      <td>3.601237e-22</td>\n",
       "      <td>pass</td>\n",
       "    </tr>\n",
       "    <tr>\n",
       "      <th>14</th>\n",
       "      <td>dan thamai aththatama danenne ratata nayakayek...</td>\n",
       "      <td>1</td>\n",
       "      <td>[dan, thamai, aththatama, danenne, ratata, nay...</td>\n",
       "      <td>0</td>\n",
       "      <td>2.066162e-17</td>\n",
       "      <td>fail</td>\n",
       "    </tr>\n",
       "    <tr>\n",
       "      <th>15</th>\n",
       "      <td>Premadasa lankawe 60000 k marala puchala demma</td>\n",
       "      <td>0</td>\n",
       "      <td>[premadasa, lankawe, 60000, k, marala, puchala...</td>\n",
       "      <td>0</td>\n",
       "      <td>5.103848e-15</td>\n",
       "      <td>pass</td>\n",
       "    </tr>\n",
       "    <tr>\n",
       "      <th>16</th>\n",
       "      <td>Meeta kalin kisima janaadhipathiwarayek janath...</td>\n",
       "      <td>1</td>\n",
       "      <td>[meeta, kalin, kisima, janaadhipathiwarayek, j...</td>\n",
       "      <td>0</td>\n",
       "      <td>3.616241e-22</td>\n",
       "      <td>fail</td>\n",
       "    </tr>\n",
       "    <tr>\n",
       "      <th>17</th>\n",
       "      <td>Wenasata api Garu Karamu!!Janapathi Thumani Ob...</td>\n",
       "      <td>1</td>\n",
       "      <td>[wenasata, api, garu, karamu, janapathi, thuma...</td>\n",
       "      <td>0</td>\n",
       "      <td>3.616179e-22</td>\n",
       "      <td>fail</td>\n",
       "    </tr>\n",
       "    <tr>\n",
       "      <th>18</th>\n",
       "      <td>Ane pala yanna thopi me rata kawa.</td>\n",
       "      <td>0</td>\n",
       "      <td>[ane, pala, yanna, thopi, me, rata, kawa]</td>\n",
       "      <td>0</td>\n",
       "      <td>4.877337e-15</td>\n",
       "      <td>pass</td>\n",
       "    </tr>\n",
       "    <tr>\n",
       "      <th>19</th>\n",
       "      <td>Hatara wate ......giya....me..buuuruwa . Minis...</td>\n",
       "      <td>0</td>\n",
       "      <td>[hatara, wate, giya, me, buuuruwa, minissu, ti...</td>\n",
       "      <td>0</td>\n",
       "      <td>3.557020e-22</td>\n",
       "      <td>pass</td>\n",
       "    </tr>\n",
       "  </tbody>\n",
       "</table>\n",
       "</div>"
      ],
      "text/plain": [
       "                                              comment  label  \\\n",
       "0                      Jayawewaa.. Lassan apee rata..      1   \n",
       "1                                       Jayen jaya...      1   \n",
       "2   Theruwan saranayi oba thumaata, jayen Jayama w...      1   \n",
       "3                     Kaiya wethrari karapu deyak naa      0   \n",
       "4   Me wage 2.50 Pankadayo genella discuss karanna...      0   \n",
       "5             Muntane minissu chande denne wesa ballo      0   \n",
       "6           Oita wada hodai toilet walak kadan kapan.      0   \n",
       "7   Pana adimin siti jathiyata nawa jiwayak dunne ...      1   \n",
       "8                                Nodakin wimale uba..      0   \n",
       "9   Borukara andu heththa apita sahane denava kiya...      0   \n",
       "10                        Munta pissu kiyanne nikanda      0   \n",
       "11            225 korona hadila kiyala dannako ??????      0   \n",
       "12  Jayen jayamawewa gota. Mahinda mathidun. Depalata      1   \n",
       "13  Mu kare yudde iwara karanna atha hitha dunna e...      0   \n",
       "14  dan thamai aththatama danenne ratata nayakayek...      1   \n",
       "15     Premadasa lankawe 60000 k marala puchala demma      0   \n",
       "16  Meeta kalin kisima janaadhipathiwarayek janath...      1   \n",
       "17  Wenasata api Garu Karamu!!Janapathi Thumani Ob...      1   \n",
       "18                 Ane pala yanna thopi me rata kawa.      0   \n",
       "19  Hatara wate ......giya....me..buuuruwa . Minis...      0   \n",
       "\n",
       "                                    tokenized_comment  prediction  \\\n",
       "0                     [jayawewaa, lassan, apee, rata]           0   \n",
       "1                                       [jayen, jaya]           0   \n",
       "2   [theruwan, saranayi, oba, thumaata, jayen, jay...           1   \n",
       "3               [kaiya, wethrari, karapu, deyak, naa]           0   \n",
       "4   [me, wage, 2, 50, pankadayo, genella, discuss,...           0   \n",
       "5      [muntane, minissu, chande, denne, wesa, ballo]           0   \n",
       "6    [oita, wada, hodai, toilet, walak, kadan, kapan]           0   \n",
       "7   [pana, adimin, siti, jathiyata, nawa, jiwayak,...           0   \n",
       "8                              [nodakin, wimale, uba]           0   \n",
       "9   [borukara, andu, heththa, apita, sahane, denav...           0   \n",
       "10                   [munta, pissu, kiyanne, nikanda]           0   \n",
       "11             [225, korona, hadila, kiyala, dannako]           0   \n",
       "12  [jayen, jayamawewa, gota, mahinda, mathidun, d...           0   \n",
       "13  [mu, kare, yudde, iwara, karanna, atha, hitha,...           0   \n",
       "14  [dan, thamai, aththatama, danenne, ratata, nay...           0   \n",
       "15  [premadasa, lankawe, 60000, k, marala, puchala...           0   \n",
       "16  [meeta, kalin, kisima, janaadhipathiwarayek, j...           0   \n",
       "17  [wenasata, api, garu, karamu, janapathi, thuma...           0   \n",
       "18          [ane, pala, yanna, thopi, me, rata, kawa]           0   \n",
       "19  [hatara, wate, giya, me, buuuruwa, minissu, ti...           0   \n",
       "\n",
       "    prediction _probability result  \n",
       "0              7.144122e-08   fail  \n",
       "1              4.149378e-03   fail  \n",
       "2              1.857077e-14   pass  \n",
       "3              2.927919e-10   pass  \n",
       "4              8.643558e-20   pass  \n",
       "5              1.214863e-12   pass  \n",
       "6              5.040838e-15   pass  \n",
       "7              2.117779e-17   fail  \n",
       "8              1.721733e-05   pass  \n",
       "9              1.512967e-24   pass  \n",
       "10             6.998089e-08   pass  \n",
       "11             2.939968e-10   pass  \n",
       "12             1.230027e-12   fail  \n",
       "13             3.601237e-22   pass  \n",
       "14             2.066162e-17   fail  \n",
       "15             5.103848e-15   pass  \n",
       "16             3.616241e-22   fail  \n",
       "17             3.616179e-22   fail  \n",
       "18             4.877337e-15   pass  \n",
       "19             3.557020e-22   pass  "
      ]
     },
     "execution_count": 29,
     "metadata": {},
     "output_type": "execute_result"
    }
   ],
   "source": [
    "# reset the test rows\n",
    "test = test.reset_index(drop=True)\n",
    "test"
   ]
  },
  {
   "cell_type": "markdown",
   "metadata": {},
   "source": [
    "11. Accuracy of the model"
   ]
  },
  {
   "cell_type": "code",
   "execution_count": 30,
   "metadata": {},
   "outputs": [
    {
     "name": "stdout",
     "output_type": "stream",
     "text": [
      "accurecy :  65.0\n"
     ]
    }
   ],
   "source": [
    "result_dist = nltk.FreqDist(test['result'])\n",
    "accurecy = (result_dist['pass']/len(test))*100\n",
    "print('accurecy : ', accurecy)"
   ]
  },
  {
   "cell_type": "code",
   "execution_count": 36,
   "metadata": {},
   "outputs": [
    {
     "name": "stdout",
     "output_type": "stream",
     "text": [
      "               precision    recall  f1-score   support\n",
      "\n",
      "           0       0.63      1.00      0.77        12\n",
      "           1       1.00      0.12      0.22         8\n",
      "\n",
      "    accuracy                           0.65        20\n",
      "   macro avg       0.82      0.56      0.50        20\n",
      "weighted avg       0.78      0.65      0.55        20\n",
      " \n",
      "\n"
     ]
    }
   ],
   "source": [
    "# confusion metrix\n",
    "\n",
    "from sklearn.metrics import classification_report\n",
    "\n",
    "print('', classification_report(test['label'], prediction), '\\n')\n"
   ]
  },
  {
   "cell_type": "markdown",
   "metadata": {},
   "source": [
    "\n",
    "Question 3.\n"
   ]
  },
  {
   "cell_type": "markdown",
   "metadata": {},
   "source": [
    "12. Find the Perplexity"
   ]
  },
  {
   "cell_type": "code",
   "execution_count": 31,
   "metadata": {},
   "outputs": [],
   "source": [
    "test_prob_multiplication = 1\n",
    "\n",
    "for prob in test['prediction _probability']:\n",
    "    test_prob_multiplication *= prob\n",
    "    #print(test_prob_multiplication)"
   ]
  },
  {
   "cell_type": "code",
   "execution_count": 32,
   "metadata": {},
   "outputs": [
    {
     "name": "stdout",
     "output_type": "stream",
     "text": [
      "perplexity :  108.61512674501985\n"
     ]
    }
   ],
   "source": [
    "import math\n",
    "\n",
    "comments_words_arr = [] \n",
    "\n",
    "comments = test['tokenized_comment'].to_numpy()\n",
    "\n",
    "for i in range(len(test.index)):\n",
    "    comments_words_arr.append(comments[i])\n",
    "\n",
    "N = len(sum(comments_words_arr, []))\n",
    "perplexity = math.pow(test_prob_multiplication, -1/N)\n",
    "\n",
    "print('perplexity : ', perplexity)"
   ]
  },
  {
   "cell_type": "markdown",
   "metadata": {},
   "source": [
    " * better language models has lower perplexity and heigh probability."
   ]
  },
  {
   "cell_type": "markdown",
   "metadata": {},
   "source": [
    "Question 4."
   ]
  },
  {
   "cell_type": "markdown",
   "metadata": {},
   "source": [
    "4. Discuss how to improve the classification performance of the above sentiment analyzer."
   ]
  },
  {
   "cell_type": "markdown",
   "metadata": {},
   "source": [
    "*The model can be improved with the using maximizing the domain specific data set.\n",
    "\n",
    "*The model improves with using the trigram or combine bigram and trigram model.\n",
    "\n",
    "*We can add the Good-Turing Discounting smoothing technique instead of Laplace Smoothing because it much probability gets removed from bigrams actually encountered.\n"
   ]
  },
  {
   "cell_type": "code",
   "execution_count": null,
   "metadata": {},
   "outputs": [],
   "source": []
  },
  {
   "cell_type": "code",
   "execution_count": null,
   "metadata": {},
   "outputs": [],
   "source": []
  }
 ],
 "metadata": {
  "kernelspec": {
   "display_name": "Python 3",
   "language": "python",
   "name": "python3"
  },
  "language_info": {
   "codemirror_mode": {
    "name": "ipython",
    "version": 3
   },
   "file_extension": ".py",
   "mimetype": "text/x-python",
   "name": "python",
   "nbconvert_exporter": "python",
   "pygments_lexer": "ipython3",
   "version": "3.8.5"
  }
 },
 "nbformat": 4,
 "nbformat_minor": 4
}
